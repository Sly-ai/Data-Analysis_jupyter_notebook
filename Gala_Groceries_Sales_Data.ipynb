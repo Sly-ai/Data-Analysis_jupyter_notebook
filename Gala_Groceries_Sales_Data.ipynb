{
  "nbformat": 4,
  "nbformat_minor": 0,
  "metadata": {
    "colab": {
      "provenance": [],
      "authorship_tag": "ABX9TyMODxbCQLFzbw/dzObrJst2",
      "include_colab_link": true
    },
    "kernelspec": {
      "name": "python3",
      "display_name": "Python 3"
    },
    "language_info": {
      "name": "python"
    }
  },
  "cells": [
    {
      "cell_type": "markdown",
      "metadata": {
        "id": "view-in-github",
        "colab_type": "text"
      },
      "source": [
        "<a href=\"https://colab.research.google.com/github/Sly-ai/Data-Analysis_jupyter_notebook/blob/main/Gala_Groceries_Sales_Data.ipynb\" target=\"_parent\"><img src=\"https://colab.research.google.com/assets/colab-badge.svg\" alt=\"Open In Colab\"/></a>"
      ]
    },
    {
      "cell_type": "markdown",
      "source": [
        "# Introduction\n",
        "\n",
        "The purpose of this notebook is to conduct exploratory data analysis of the Gala Groceries Sales Data"
      ],
      "metadata": {
        "id": "4Jy9dgobwMBL"
      }
    },
    {
      "cell_type": "code",
      "execution_count": null,
      "metadata": {
        "colab": {
          "base_uri": "https://localhost:8080/"
        },
        "id": "E-cLS9tJb2X9",
        "outputId": "aa1df45e-37b3-4aed-ab05-e01f934a810a"
      },
      "outputs": [
        {
          "output_type": "stream",
          "name": "stdout",
          "text": [
            "Mounted at /content/drive\n"
          ]
        }
      ],
      "source": [
        "from google.colab import drive\n",
        "drive.mount('/content/drive')\n"
      ]
    },
    {
      "cell_type": "code",
      "source": [
        "import pandas as pd\n",
        "\n",
        "path = \"/content/drive/MyDrive/Colab Notebooks/CSV files/sample_sales_data.csv\"\n",
        "df = pd.read_csv(path)\n",
        "df.drop(columns=[\"Unnamed: 0\"], inplace=True, errors='ignore')\n",
        "df.head()"
      ],
      "metadata": {
        "id": "_KX0kIyTdvW0",
        "colab": {
          "base_uri": "https://localhost:8080/",
          "height": 293
        },
        "outputId": "13606be1-3166-4dc4-d374-aadb68917e36"
      },
      "execution_count": null,
      "outputs": [
        {
          "output_type": "execute_result",
          "data": {
            "text/plain": [
              "                         transaction_id            timestamp  \\\n",
              "0  a1c82654-c52c-45b3-8ce8-4c2a1efe63ed  2022-03-02 09:51:38   \n",
              "1  931ad550-09e8-4da6-beaa-8c9d17be9c60  2022-03-06 10:33:59   \n",
              "2  ae133534-6f61-4cd6-b6b8-d1c1d8d90aea  2022-03-04 17:20:21   \n",
              "3  157cebd9-aaf0-475d-8a11-7c8e0f5b76e4  2022-03-02 17:23:58   \n",
              "4  a81a6cd3-5e0c-44a2-826c-aea43e46c514  2022-03-05 14:32:43   \n",
              "\n",
              "                             product_id category customer_type  unit_price  \\\n",
              "0  3bc6c1ea-0198-46de-9ffd-514ae3338713    fruit          gold        3.99   \n",
              "1  ad81b46c-bf38-41cf-9b54-5fe7f5eba93e    fruit      standard        3.99   \n",
              "2  7c55cbd4-f306-4c04-a030-628cbe7867c1    fruit       premium        0.19   \n",
              "3  80da8348-1707-403f-8be7-9e6deeccc883    fruit          gold        0.19   \n",
              "4  7f5e86e6-f06f-45f6-bf44-27b095c9ad1d    fruit         basic        4.49   \n",
              "\n",
              "   quantity  total payment_type  \n",
              "0         2   7.98     e-wallet  \n",
              "1         1   3.99     e-wallet  \n",
              "2         2   0.38     e-wallet  \n",
              "3         4   0.76     e-wallet  \n",
              "4         2   8.98   debit card  "
            ],
            "text/html": [
              "\n",
              "  <div id=\"df-690a4cfe-7bb3-4726-8dbf-edf107aafcdc\" class=\"colab-df-container\">\n",
              "    <div>\n",
              "<style scoped>\n",
              "    .dataframe tbody tr th:only-of-type {\n",
              "        vertical-align: middle;\n",
              "    }\n",
              "\n",
              "    .dataframe tbody tr th {\n",
              "        vertical-align: top;\n",
              "    }\n",
              "\n",
              "    .dataframe thead th {\n",
              "        text-align: right;\n",
              "    }\n",
              "</style>\n",
              "<table border=\"1\" class=\"dataframe\">\n",
              "  <thead>\n",
              "    <tr style=\"text-align: right;\">\n",
              "      <th></th>\n",
              "      <th>transaction_id</th>\n",
              "      <th>timestamp</th>\n",
              "      <th>product_id</th>\n",
              "      <th>category</th>\n",
              "      <th>customer_type</th>\n",
              "      <th>unit_price</th>\n",
              "      <th>quantity</th>\n",
              "      <th>total</th>\n",
              "      <th>payment_type</th>\n",
              "    </tr>\n",
              "  </thead>\n",
              "  <tbody>\n",
              "    <tr>\n",
              "      <th>0</th>\n",
              "      <td>a1c82654-c52c-45b3-8ce8-4c2a1efe63ed</td>\n",
              "      <td>2022-03-02 09:51:38</td>\n",
              "      <td>3bc6c1ea-0198-46de-9ffd-514ae3338713</td>\n",
              "      <td>fruit</td>\n",
              "      <td>gold</td>\n",
              "      <td>3.99</td>\n",
              "      <td>2</td>\n",
              "      <td>7.98</td>\n",
              "      <td>e-wallet</td>\n",
              "    </tr>\n",
              "    <tr>\n",
              "      <th>1</th>\n",
              "      <td>931ad550-09e8-4da6-beaa-8c9d17be9c60</td>\n",
              "      <td>2022-03-06 10:33:59</td>\n",
              "      <td>ad81b46c-bf38-41cf-9b54-5fe7f5eba93e</td>\n",
              "      <td>fruit</td>\n",
              "      <td>standard</td>\n",
              "      <td>3.99</td>\n",
              "      <td>1</td>\n",
              "      <td>3.99</td>\n",
              "      <td>e-wallet</td>\n",
              "    </tr>\n",
              "    <tr>\n",
              "      <th>2</th>\n",
              "      <td>ae133534-6f61-4cd6-b6b8-d1c1d8d90aea</td>\n",
              "      <td>2022-03-04 17:20:21</td>\n",
              "      <td>7c55cbd4-f306-4c04-a030-628cbe7867c1</td>\n",
              "      <td>fruit</td>\n",
              "      <td>premium</td>\n",
              "      <td>0.19</td>\n",
              "      <td>2</td>\n",
              "      <td>0.38</td>\n",
              "      <td>e-wallet</td>\n",
              "    </tr>\n",
              "    <tr>\n",
              "      <th>3</th>\n",
              "      <td>157cebd9-aaf0-475d-8a11-7c8e0f5b76e4</td>\n",
              "      <td>2022-03-02 17:23:58</td>\n",
              "      <td>80da8348-1707-403f-8be7-9e6deeccc883</td>\n",
              "      <td>fruit</td>\n",
              "      <td>gold</td>\n",
              "      <td>0.19</td>\n",
              "      <td>4</td>\n",
              "      <td>0.76</td>\n",
              "      <td>e-wallet</td>\n",
              "    </tr>\n",
              "    <tr>\n",
              "      <th>4</th>\n",
              "      <td>a81a6cd3-5e0c-44a2-826c-aea43e46c514</td>\n",
              "      <td>2022-03-05 14:32:43</td>\n",
              "      <td>7f5e86e6-f06f-45f6-bf44-27b095c9ad1d</td>\n",
              "      <td>fruit</td>\n",
              "      <td>basic</td>\n",
              "      <td>4.49</td>\n",
              "      <td>2</td>\n",
              "      <td>8.98</td>\n",
              "      <td>debit card</td>\n",
              "    </tr>\n",
              "  </tbody>\n",
              "</table>\n",
              "</div>\n",
              "    <div class=\"colab-df-buttons\">\n",
              "\n",
              "  <div class=\"colab-df-container\">\n",
              "    <button class=\"colab-df-convert\" onclick=\"convertToInteractive('df-690a4cfe-7bb3-4726-8dbf-edf107aafcdc')\"\n",
              "            title=\"Convert this dataframe to an interactive table.\"\n",
              "            style=\"display:none;\">\n",
              "\n",
              "  <svg xmlns=\"http://www.w3.org/2000/svg\" height=\"24px\" viewBox=\"0 -960 960 960\">\n",
              "    <path d=\"M120-120v-720h720v720H120Zm60-500h600v-160H180v160Zm220 220h160v-160H400v160Zm0 220h160v-160H400v160ZM180-400h160v-160H180v160Zm440 0h160v-160H620v160ZM180-180h160v-160H180v160Zm440 0h160v-160H620v160Z\"/>\n",
              "  </svg>\n",
              "    </button>\n",
              "\n",
              "  <style>\n",
              "    .colab-df-container {\n",
              "      display:flex;\n",
              "      gap: 12px;\n",
              "    }\n",
              "\n",
              "    .colab-df-convert {\n",
              "      background-color: #E8F0FE;\n",
              "      border: none;\n",
              "      border-radius: 50%;\n",
              "      cursor: pointer;\n",
              "      display: none;\n",
              "      fill: #1967D2;\n",
              "      height: 32px;\n",
              "      padding: 0 0 0 0;\n",
              "      width: 32px;\n",
              "    }\n",
              "\n",
              "    .colab-df-convert:hover {\n",
              "      background-color: #E2EBFA;\n",
              "      box-shadow: 0px 1px 2px rgba(60, 64, 67, 0.3), 0px 1px 3px 1px rgba(60, 64, 67, 0.15);\n",
              "      fill: #174EA6;\n",
              "    }\n",
              "\n",
              "    .colab-df-buttons div {\n",
              "      margin-bottom: 4px;\n",
              "    }\n",
              "\n",
              "    [theme=dark] .colab-df-convert {\n",
              "      background-color: #3B4455;\n",
              "      fill: #D2E3FC;\n",
              "    }\n",
              "\n",
              "    [theme=dark] .colab-df-convert:hover {\n",
              "      background-color: #434B5C;\n",
              "      box-shadow: 0px 1px 3px 1px rgba(0, 0, 0, 0.15);\n",
              "      filter: drop-shadow(0px 1px 2px rgba(0, 0, 0, 0.3));\n",
              "      fill: #FFFFFF;\n",
              "    }\n",
              "  </style>\n",
              "\n",
              "    <script>\n",
              "      const buttonEl =\n",
              "        document.querySelector('#df-690a4cfe-7bb3-4726-8dbf-edf107aafcdc button.colab-df-convert');\n",
              "      buttonEl.style.display =\n",
              "        google.colab.kernel.accessAllowed ? 'block' : 'none';\n",
              "\n",
              "      async function convertToInteractive(key) {\n",
              "        const element = document.querySelector('#df-690a4cfe-7bb3-4726-8dbf-edf107aafcdc');\n",
              "        const dataTable =\n",
              "          await google.colab.kernel.invokeFunction('convertToInteractive',\n",
              "                                                    [key], {});\n",
              "        if (!dataTable) return;\n",
              "\n",
              "        const docLinkHtml = 'Like what you see? Visit the ' +\n",
              "          '<a target=\"_blank\" href=https://colab.research.google.com/notebooks/data_table.ipynb>data table notebook</a>'\n",
              "          + ' to learn more about interactive tables.';\n",
              "        element.innerHTML = '';\n",
              "        dataTable['output_type'] = 'display_data';\n",
              "        await google.colab.output.renderOutput(dataTable, element);\n",
              "        const docLink = document.createElement('div');\n",
              "        docLink.innerHTML = docLinkHtml;\n",
              "        element.appendChild(docLink);\n",
              "      }\n",
              "    </script>\n",
              "  </div>\n",
              "\n",
              "\n",
              "<div id=\"df-610a3d3c-8fcd-488e-89d2-91819d5ad3a3\">\n",
              "  <button class=\"colab-df-quickchart\" onclick=\"quickchart('df-610a3d3c-8fcd-488e-89d2-91819d5ad3a3')\"\n",
              "            title=\"Suggest charts\"\n",
              "            style=\"display:none;\">\n",
              "\n",
              "<svg xmlns=\"http://www.w3.org/2000/svg\" height=\"24px\"viewBox=\"0 0 24 24\"\n",
              "     width=\"24px\">\n",
              "    <g>\n",
              "        <path d=\"M19 3H5c-1.1 0-2 .9-2 2v14c0 1.1.9 2 2 2h14c1.1 0 2-.9 2-2V5c0-1.1-.9-2-2-2zM9 17H7v-7h2v7zm4 0h-2V7h2v10zm4 0h-2v-4h2v4z\"/>\n",
              "    </g>\n",
              "</svg>\n",
              "  </button>\n",
              "\n",
              "<style>\n",
              "  .colab-df-quickchart {\n",
              "      --bg-color: #E8F0FE;\n",
              "      --fill-color: #1967D2;\n",
              "      --hover-bg-color: #E2EBFA;\n",
              "      --hover-fill-color: #174EA6;\n",
              "      --disabled-fill-color: #AAA;\n",
              "      --disabled-bg-color: #DDD;\n",
              "  }\n",
              "\n",
              "  [theme=dark] .colab-df-quickchart {\n",
              "      --bg-color: #3B4455;\n",
              "      --fill-color: #D2E3FC;\n",
              "      --hover-bg-color: #434B5C;\n",
              "      --hover-fill-color: #FFFFFF;\n",
              "      --disabled-bg-color: #3B4455;\n",
              "      --disabled-fill-color: #666;\n",
              "  }\n",
              "\n",
              "  .colab-df-quickchart {\n",
              "    background-color: var(--bg-color);\n",
              "    border: none;\n",
              "    border-radius: 50%;\n",
              "    cursor: pointer;\n",
              "    display: none;\n",
              "    fill: var(--fill-color);\n",
              "    height: 32px;\n",
              "    padding: 0;\n",
              "    width: 32px;\n",
              "  }\n",
              "\n",
              "  .colab-df-quickchart:hover {\n",
              "    background-color: var(--hover-bg-color);\n",
              "    box-shadow: 0 1px 2px rgba(60, 64, 67, 0.3), 0 1px 3px 1px rgba(60, 64, 67, 0.15);\n",
              "    fill: var(--button-hover-fill-color);\n",
              "  }\n",
              "\n",
              "  .colab-df-quickchart-complete:disabled,\n",
              "  .colab-df-quickchart-complete:disabled:hover {\n",
              "    background-color: var(--disabled-bg-color);\n",
              "    fill: var(--disabled-fill-color);\n",
              "    box-shadow: none;\n",
              "  }\n",
              "\n",
              "  .colab-df-spinner {\n",
              "    border: 2px solid var(--fill-color);\n",
              "    border-color: transparent;\n",
              "    border-bottom-color: var(--fill-color);\n",
              "    animation:\n",
              "      spin 1s steps(1) infinite;\n",
              "  }\n",
              "\n",
              "  @keyframes spin {\n",
              "    0% {\n",
              "      border-color: transparent;\n",
              "      border-bottom-color: var(--fill-color);\n",
              "      border-left-color: var(--fill-color);\n",
              "    }\n",
              "    20% {\n",
              "      border-color: transparent;\n",
              "      border-left-color: var(--fill-color);\n",
              "      border-top-color: var(--fill-color);\n",
              "    }\n",
              "    30% {\n",
              "      border-color: transparent;\n",
              "      border-left-color: var(--fill-color);\n",
              "      border-top-color: var(--fill-color);\n",
              "      border-right-color: var(--fill-color);\n",
              "    }\n",
              "    40% {\n",
              "      border-color: transparent;\n",
              "      border-right-color: var(--fill-color);\n",
              "      border-top-color: var(--fill-color);\n",
              "    }\n",
              "    60% {\n",
              "      border-color: transparent;\n",
              "      border-right-color: var(--fill-color);\n",
              "    }\n",
              "    80% {\n",
              "      border-color: transparent;\n",
              "      border-right-color: var(--fill-color);\n",
              "      border-bottom-color: var(--fill-color);\n",
              "    }\n",
              "    90% {\n",
              "      border-color: transparent;\n",
              "      border-bottom-color: var(--fill-color);\n",
              "    }\n",
              "  }\n",
              "</style>\n",
              "\n",
              "  <script>\n",
              "    async function quickchart(key) {\n",
              "      const quickchartButtonEl =\n",
              "        document.querySelector('#' + key + ' button');\n",
              "      quickchartButtonEl.disabled = true;  // To prevent multiple clicks.\n",
              "      quickchartButtonEl.classList.add('colab-df-spinner');\n",
              "      try {\n",
              "        const charts = await google.colab.kernel.invokeFunction(\n",
              "            'suggestCharts', [key], {});\n",
              "      } catch (error) {\n",
              "        console.error('Error during call to suggestCharts:', error);\n",
              "      }\n",
              "      quickchartButtonEl.classList.remove('colab-df-spinner');\n",
              "      quickchartButtonEl.classList.add('colab-df-quickchart-complete');\n",
              "    }\n",
              "    (() => {\n",
              "      let quickchartButtonEl =\n",
              "        document.querySelector('#df-610a3d3c-8fcd-488e-89d2-91819d5ad3a3 button');\n",
              "      quickchartButtonEl.style.display =\n",
              "        google.colab.kernel.accessAllowed ? 'block' : 'none';\n",
              "    })();\n",
              "  </script>\n",
              "</div>\n",
              "    </div>\n",
              "  </div>\n"
            ]
          },
          "metadata": {},
          "execution_count": 12
        }
      ]
    },
    {
      "cell_type": "code",
      "source": [
        "df.info()\n",
        "print(\"-------------\")\n",
        "df.describe()\n",
        "\n",
        "!pip install seaborn"
      ],
      "metadata": {
        "colab": {
          "base_uri": "https://localhost:8080/"
        },
        "id": "ic-YxZcUgPuQ",
        "outputId": "764bffa6-65c9-479e-df13-63bcd579c90f"
      },
      "execution_count": null,
      "outputs": [
        {
          "output_type": "stream",
          "name": "stdout",
          "text": [
            "<class 'pandas.core.frame.DataFrame'>\n",
            "RangeIndex: 7829 entries, 0 to 7828\n",
            "Data columns (total 9 columns):\n",
            " #   Column          Non-Null Count  Dtype  \n",
            "---  ------          --------------  -----  \n",
            " 0   transaction_id  7829 non-null   object \n",
            " 1   timestamp       7829 non-null   object \n",
            " 2   product_id      7829 non-null   object \n",
            " 3   category        7829 non-null   object \n",
            " 4   customer_type   7829 non-null   object \n",
            " 5   unit_price      7829 non-null   float64\n",
            " 6   quantity        7829 non-null   int64  \n",
            " 7   total           7829 non-null   float64\n",
            " 8   payment_type    7829 non-null   object \n",
            "dtypes: float64(2), int64(1), object(6)\n",
            "memory usage: 550.6+ KB\n",
            "-------------\n",
            "Requirement already satisfied: seaborn in /usr/local/lib/python3.10/dist-packages (0.13.1)\n",
            "Requirement already satisfied: numpy!=1.24.0,>=1.20 in /usr/local/lib/python3.10/dist-packages (from seaborn) (1.23.5)\n",
            "Requirement already satisfied: pandas>=1.2 in /usr/local/lib/python3.10/dist-packages (from seaborn) (1.5.3)\n",
            "Requirement already satisfied: matplotlib!=3.6.1,>=3.4 in /usr/local/lib/python3.10/dist-packages (from seaborn) (3.7.1)\n",
            "Requirement already satisfied: contourpy>=1.0.1 in /usr/local/lib/python3.10/dist-packages (from matplotlib!=3.6.1,>=3.4->seaborn) (1.2.0)\n",
            "Requirement already satisfied: cycler>=0.10 in /usr/local/lib/python3.10/dist-packages (from matplotlib!=3.6.1,>=3.4->seaborn) (0.12.1)\n",
            "Requirement already satisfied: fonttools>=4.22.0 in /usr/local/lib/python3.10/dist-packages (from matplotlib!=3.6.1,>=3.4->seaborn) (4.47.2)\n",
            "Requirement already satisfied: kiwisolver>=1.0.1 in /usr/local/lib/python3.10/dist-packages (from matplotlib!=3.6.1,>=3.4->seaborn) (1.4.5)\n",
            "Requirement already satisfied: packaging>=20.0 in /usr/local/lib/python3.10/dist-packages (from matplotlib!=3.6.1,>=3.4->seaborn) (23.2)\n",
            "Requirement already satisfied: pillow>=6.2.0 in /usr/local/lib/python3.10/dist-packages (from matplotlib!=3.6.1,>=3.4->seaborn) (9.4.0)\n",
            "Requirement already satisfied: pyparsing>=2.3.1 in /usr/local/lib/python3.10/dist-packages (from matplotlib!=3.6.1,>=3.4->seaborn) (3.1.1)\n",
            "Requirement already satisfied: python-dateutil>=2.7 in /usr/local/lib/python3.10/dist-packages (from matplotlib!=3.6.1,>=3.4->seaborn) (2.8.2)\n",
            "Requirement already satisfied: pytz>=2020.1 in /usr/local/lib/python3.10/dist-packages (from pandas>=1.2->seaborn) (2023.4)\n",
            "Requirement already satisfied: six>=1.5 in /usr/local/lib/python3.10/dist-packages (from python-dateutil>=2.7->matplotlib!=3.6.1,>=3.4->seaborn) (1.16.0)\n"
          ]
        }
      ]
    },
    {
      "cell_type": "code",
      "source": [
        "import seaborn as sns\n",
        "import matplotlib.pyplot as plt\n",
        "\n",
        "def plot_continuous_distribution(data: pd.DataFrame = None, column: str = None, height: int = 8):\n",
        "    \"\"\"\n",
        "    Plots the distribution of continuous data.\n",
        "\n",
        "    Parameters:\n",
        "    - data: DataFrame containing the data.\n",
        "    - column: Name of the column to plot.\n",
        "    - height: Height of the plot.\n",
        "    \"\"\"\n",
        "    if data is None or column is None:\n",
        "        raise ValueError(\"Both data and column must be provided.\")\n",
        "\n",
        "    plt.figure(figsize=(height, height/5))\n",
        "    sns.histplot(data=data, x=column, kde=True)\n",
        "    plt.title(f'Distribution of {column}')\n",
        "    plt.show()\n",
        "\n",
        "def get_unique_values(data: pd.DataFrame, column: str):\n",
        "    \"\"\"\n",
        "    Prints unique values and their counts for a given column.\n",
        "\n",
        "    Parameters:\n",
        "    - data: DataFrame containing the data.\n",
        "    - column: Name of the column.\n",
        "    \"\"\"\n",
        "    if data is None or column not in data.columns:\n",
        "        raise ValueError(\"Invalid data or column name.\")\n",
        "\n",
        "    unique_values = data[column].unique()\n",
        "    num_unique_values = len(unique_values)\n",
        "    value_counts = data[column].value_counts()\n",
        "\n",
        "    print(f\"Column: {column} has {num_unique_values} unique values\\n\")\n",
        "    print(value_counts)\n",
        "\n",
        "def plot_categorical_distribution(data: pd.DataFrame = None, column: str = None, height: int = 8, aspect: int = 2):\n",
        "    \"\"\"\n",
        "    Plots the distribution of categorical data.\n",
        "\n",
        "    Parameters:\n",
        "    - data: DataFrame containing the data.\n",
        "    - column: Name of the categorical column to plot.\n",
        "    - height: Height of the plot.\n",
        "    - aspect: Aspect ratio of the plot.\n",
        "    \"\"\"\n",
        "    if data is None or column is None:\n",
        "        raise ValueError(\"Both data and column must be provided.\")\n",
        "\n",
        "    sns.catplot(data=data, x=column, kind='count', height=height, aspect=aspect)\n",
        "    plt.title(f'Distribution of {column}')\n",
        "    plt.show()\n"
      ],
      "metadata": {
        "id": "SWD0qdoYhfKx"
      },
      "execution_count": null,
      "outputs": []
    },
    {
      "cell_type": "code",
      "source": [
        "plot_continuous_distribution(df, 'unit_price')"
      ],
      "metadata": {
        "id": "AyUPE4QRKcYQ",
        "colab": {
          "base_uri": "https://localhost:8080/",
          "height": 225
        },
        "outputId": "767f5124-5e6b-4186-8c49-77ee36420478"
      },
      "execution_count": null,
      "outputs": [
        {
          "output_type": "display_data",
          "data": {
            "text/plain": [
              "<Figure size 800x160 with 1 Axes>"
            ],
            "image/png": "[encoded data removed]"
          },
          "metadata": {}
        }
      ]
    },
    {
      "cell_type": "markdown",
      "source": [
        "The distribution of unit_price is positively skewed, showing high volume for less priced products such a perisable items `(fruits, vegetables, canned goods) compared to high price products."
      ],
      "metadata": {
        "id": "RS7KVW3UjC4p"
      }
    },
    {
      "cell_type": "code",
      "source": [
        "plot_continuous_distribution(df, 'quantity')"
      ],
      "metadata": {
        "colab": {
          "base_uri": "https://localhost:8080/",
          "height": 225
        },
        "id": "RQ9EqrqwjP4W",
        "outputId": "0f982733-372d-415f-d92d-df61f24c4f49"
      },
      "execution_count": null,
      "outputs": [
        {
          "output_type": "display_data",
          "data": {
            "text/plain": [
              "<Figure size 800x160 with 1 Axes>"
            ],
            "image/png": "[encoded data removed]"
          },
          "metadata": {}
        }
      ]
    },
    {
      "cell_type": "markdown",
      "source": [
        "The distribution of quantity is very different. We can see that only 4 unique values exist (1, 2, 3, and 4) and they are quite evenly distributed. It seems as though customers are buying in even quantities across 1 to 4 units"
      ],
      "metadata": {
        "id": "mXj_iLxejVUX"
      }
    },
    {
      "cell_type": "code",
      "source": [
        "plot_continuous_distribution(df, 'total')"
      ],
      "metadata": {
        "colab": {
          "base_uri": "https://localhost:8080/",
          "height": 225
        },
        "id": "iWWN4HPGjwdd",
        "outputId": "9de3f10e-8679-4d7c-db38-7cede1702076"
      },
      "execution_count": null,
      "outputs": [
        {
          "output_type": "display_data",
          "data": {
            "text/plain": [
              "<Figure size 800x160 with 1 Axes>"
            ],
            "image/png": "[encoded data removed]"
          },
          "metadata": {}
        }
      ]
    },
    {
      "cell_type": "markdown",
      "source": [
        "The total follows a similar distribution to unit_price. This is expected, as the total is calculated as unit_price x quantity.\n",
        "\n",
        "However, this distribution is even more positively skewed. Once again, using intuition, this distribution makes sense. As expected customers at a grocery store to generally make more transactions of low value and only occasionally make a transaction of a very high value.\n",
        "\n",
        "\n"
      ],
      "metadata": {
        "id": "zy6UhRLFjymd"
      }
    },
    {
      "cell_type": "code",
      "source": [
        "get_unique_values(df, 'transaction_id')\n",
        "print()\n",
        "get_unique_values(df, 'product_id')"
      ],
      "metadata": {
        "colab": {
          "base_uri": "https://localhost:8080/"
        },
        "id": "Qk-9hGAHkLNK",
        "outputId": "6833e0ae-ff15-4db8-be35-152637cbfc71"
      },
      "execution_count": null,
      "outputs": [
        {
          "output_type": "stream",
          "name": "stdout",
          "text": [
            "Column: transaction_id has 7829 unique values\n",
            "\n",
            "a1c82654-c52c-45b3-8ce8-4c2a1efe63ed    1\n",
            "6532e258-95fd-4eb5-8c67-2bfb879a8fec    1\n",
            "6fce2af3-47a0-4755-99c9-0cefb5ab6f41    1\n",
            "6476e388-3990-471f-b415-3ee59ae18832    1\n",
            "10afe89b-c45b-49a2-b0be-dec89a4c3f80    1\n",
            "                                       ..\n",
            "a9abe5ac-99d5-4d8b-bbbd-c2a207642849    1\n",
            "6b0b23e8-412b-4665-8cc4-3e37f0d9e195    1\n",
            "711a4162-1985-4f5a-94ca-137cfacaeadf    1\n",
            "7d1e9010-dbaf-4770-a467-f31477910f7a    1\n",
            "afd70b4f-ee21-402d-8d8f-0d9e13c2bea6    1\n",
            "Name: transaction_id, Length: 7829, dtype: int64\n",
            "\n",
            "Column: product_id has 300 unique values\n",
            "\n",
            "ecac012c-1dec-41d4-9ebd-56fb7166f6d9    114\n",
            "80da8348-1707-403f-8be7-9e6deeccc883    109\n",
            "0ddc2379-adba-4fb0-aa97-19fcafc738a1    108\n",
            "7c55cbd4-f306-4c04-a030-628cbe7867c1    104\n",
            "3bc6c1ea-0198-46de-9ffd-514ae3338713    101\n",
            "                                       ... \n",
            "49f7d4a9-713a-4824-b378-aebb33ff8b2f      5\n",
            "a8fab83a-16d4-4db0-a83a-f824ecd8604a      5\n",
            "c8de27d0-2c44-4b5a-b178-59c45d054ccb      5\n",
            "5adfc643-aa8e-4140-b2c3-98a946444632      5\n",
            "ec0bb9b5-45e3-4de8-963d-e92aa91a201e      3\n",
            "Name: product_id, Length: 300, dtype: int64\n"
          ]
        }
      ]
    },
    {
      "cell_type": "markdown",
      "source": [
        "As explained previously, transaction_id is a unique ID column for each transaction. Since each row represents a unique transaction, this means that we have 7829 unique transaction IDs. Therefore, this column is not useful to visualise.\n",
        "\n",
        "---\n",
        "Similarly, product_id is an ID column, however it is unique based on the product that was sold within the transaction. From this computation, we can see that we have 300 unique product IDs, hence 300 unique products within the dataset. This is not worth visualising, but it certainly interesting to know. From the output of the helper function, we can see that the product most frequently was sold within this dataset was ecac012c-1dec-41d4-9ebd-56fb7166f6d9, sold 114 times during the week. Whereas the product least sold was ec0bb9b5-45e3-4de8-963d-e92aa91a201e sold just 3 times"
      ],
      "metadata": {
        "id": "6tky_x-elizS"
      }
    },
    {
      "cell_type": "code",
      "source": [
        "get_unique_values(df, 'category')\n",
        "print(\"___________________________________________________\")\n",
        "get_unique_values(df, 'customer_type')\n"
      ],
      "metadata": {
        "colab": {
          "base_uri": "https://localhost:8080/"
        },
        "id": "WCOk55hVlvV2",
        "outputId": "a1700574-d08f-4cce-c6ad-0976905fd03f"
      },
      "execution_count": null,
      "outputs": [
        {
          "output_type": "stream",
          "name": "stdout",
          "text": [
            "Column: category has 22 unique values\n",
            "\n",
            "fruit                    998\n",
            "vegetables               846\n",
            "packaged foods           507\n",
            "baked goods              443\n",
            "canned foods             431\n",
            "refrigerated items       425\n",
            "kitchen                  382\n",
            "meat                     382\n",
            "dairy                    375\n",
            "beverages                301\n",
            "cheese                   293\n",
            "cleaning products        292\n",
            "baking                   264\n",
            "snacks                   263\n",
            "frozen                   263\n",
            "seafood                  253\n",
            "medicine                 243\n",
            "baby products            224\n",
            "condiments and sauces    181\n",
            "personal care            177\n",
            "pets                     161\n",
            "spices and herbs         125\n",
            "Name: category, dtype: int64\n",
            "___________________________________________________\n",
            "Column: customer_type has 5 unique values\n",
            "\n",
            "non-member    1601\n",
            "standard      1595\n",
            "premium       1590\n",
            "basic         1526\n",
            "gold          1517\n",
            "Name: customer_type, dtype: int64\n"
          ]
        }
      ]
    },
    {
      "cell_type": "code",
      "source": [
        "plot_categorical_distribution(df, 'category', height=10, aspect=3.5)"
      ],
      "metadata": {
        "colab": {
          "base_uri": "https://localhost:8080/",
          "height": 351
        },
        "id": "A0sr4WJdmTLK",
        "outputId": "0a6a4c64-faac-43e7-e223-f85d8b6c6192"
      },
      "execution_count": null,
      "outputs": [
        {
          "output_type": "display_data",
          "data": {
            "text/plain": [
              "<Figure size 3511.11x1000 with 1 Axes>"
            ],
            "image/png": "[encoded data removed]"
          },
          "metadata": {}
        }
      ]
    },
    {
      "cell_type": "markdown",
      "source": [
        "There are 22 unique values for `category`, with `fruit` and `vegetables` being the 2 most frequently purchased product categories and `spices and herbs` being the least."
      ],
      "metadata": {
        "id": "6yttM3_RIkP1"
      }
    },
    {
      "cell_type": "code",
      "source": [
        "plot_categorical_distribution(df, 'customer_type', height=5, aspect=1.5)"
      ],
      "metadata": {
        "colab": {
          "base_uri": "https://localhost:8080/",
          "height": 529
        },
        "id": "p8ZjUvYnImxS",
        "outputId": "d2c9ede6-6885-4fd7-d3c4-bd63ab35a88b"
      },
      "execution_count": null,
      "outputs": [
        {
          "output_type": "display_data",
          "data": {
            "text/plain": [
              "<Figure size 761.111x500 with 1 Axes>"
            ],
            "image/png": "[encoded data removed]"
          },
          "metadata": {}
        }
      ]
    },
    {
      "cell_type": "markdown",
      "source": [
        "From this sample of data, `non-members` appear to be the most frequent type of customers, closely followed by `standard` and `premium customers`"
      ],
      "metadata": {
        "id": "gydxNaQnn4h5"
      }
    },
    {
      "cell_type": "code",
      "source": [
        "plot_categorical_distribution(df, 'payment_type', height=5, aspect=1.5)"
      ],
      "metadata": {
        "colab": {
          "base_uri": "https://localhost:8080/",
          "height": 529
        },
        "id": "_O2SdnrUoEwP",
        "outputId": "b240531c-6a41-49aa-c8db-89b86f0a2430"
      },
      "execution_count": null,
      "outputs": [
        {
          "output_type": "display_data",
          "data": {
            "text/plain": [
              "<Figure size 761.111x500 with 1 Axes>"
            ],
            "image/png": "[encoded data removed]"
          },
          "metadata": {}
        }
      ]
    },
    {
      "cell_type": "markdown",
      "source": [
        "Interestingly, cash seems to be the most frequently used method of payment from this sample of data, with debit cards being the least frequent.\n",
        "\n",
        "This dataset is a sample from 1 store across 1 week. So it will be interesting to see if the population sample follows similar patterns."
      ],
      "metadata": {
        "id": "jwsseLYloRtD"
      }
    },
    {
      "cell_type": "code",
      "source": [
        "get_unique_values(df, 'timestamp')"
      ],
      "metadata": {
        "colab": {
          "base_uri": "https://localhost:8080/"
        },
        "id": "3IDA9zWNoUKB",
        "outputId": "7387a240-a582-4ad8-be8e-296fab4729a4"
      },
      "execution_count": null,
      "outputs": [
        {
          "output_type": "stream",
          "name": "stdout",
          "text": [
            "Column: timestamp has 7738 unique values\n",
            "\n",
            "2022-03-02 19:32:20    2\n",
            "2022-03-05 10:11:33    2\n",
            "2022-03-01 18:12:17    2\n",
            "2022-03-03 13:28:14    2\n",
            "2022-03-07 17:13:29    2\n",
            "                      ..\n",
            "2022-03-01 10:00:58    1\n",
            "2022-03-02 11:05:58    1\n",
            "2022-03-04 17:48:49    1\n",
            "2022-03-04 14:53:27    1\n",
            "2022-03-06 13:50:36    1\n",
            "Name: timestamp, Length: 7738, dtype: int64\n"
          ]
        }
      ]
    },
    {
      "cell_type": "markdown",
      "source": [
        "The column named `timestamp` appears to be categorical, but in actual fact it's not. This is a datetime, following the format of `2022-03-01 10:00:45 = YYYY-MM-DD HH:MM:SS`. Therefore, we must transform this column to reflect its true form."
      ],
      "metadata": {
        "id": "F8PgvrZLyydE"
      }
    },
    {
      "cell_type": "code",
      "source": [
        "def convert_to_datetime(data: pd.DataFrame = None, column: str = None):\n",
        "\n",
        "  dummy = data.copy()\n",
        "  dummy[column] = pd.to_datetime(dummy[column], format='%Y-%m-%d %H:%M:%S')\n",
        "  return dummy\n",
        "\n",
        "df = convert_to_datetime(df, 'timestamp')\n",
        "\n",
        "df.info()"
      ],
      "metadata": {
        "colab": {
          "base_uri": "https://localhost:8080/"
        },
        "id": "ulN9VQr5ogb7",
        "outputId": "6112d026-2b1a-4247-834c-899b9c2dc984"
      },
      "execution_count": null,
      "outputs": [
        {
          "output_type": "stream",
          "name": "stdout",
          "text": [
            "<class 'pandas.core.frame.DataFrame'>\n",
            "RangeIndex: 7829 entries, 0 to 7828\n",
            "Data columns (total 9 columns):\n",
            " #   Column          Non-Null Count  Dtype         \n",
            "---  ------          --------------  -----         \n",
            " 0   transaction_id  7829 non-null   object        \n",
            " 1   timestamp       7829 non-null   datetime64[ns]\n",
            " 2   product_id      7829 non-null   object        \n",
            " 3   category        7829 non-null   object        \n",
            " 4   customer_type   7829 non-null   object        \n",
            " 5   unit_price      7829 non-null   float64       \n",
            " 6   quantity        7829 non-null   int64         \n",
            " 7   total           7829 non-null   float64       \n",
            " 8   payment_type    7829 non-null   object        \n",
            "dtypes: datetime64[ns](1), float64(2), int64(1), object(5)\n",
            "memory usage: 550.6+ KB\n"
          ]
        }
      ]
    },
    {
      "cell_type": "markdown",
      "source": [
        "Using the `.info()` method again, we can see that the timestamp is now of type `datetime64[ns`, which indicates it is a datetime based data type. Now that this is a datetime column, we can explode this column out into its consitituent parts, e.g. we can explode datetime into hour for example."
      ],
      "metadata": {
        "id": "m4MR66-MpBl0"
      }
    },
    {
      "cell_type": "code",
      "source": [
        "df['hour'] = df['timestamp'].dt.hour\n",
        "df.head()\n",
        "get_unique_values(df, 'hour')"
      ],
      "metadata": {
        "colab": {
          "base_uri": "https://localhost:8080/"
        },
        "id": "vFG1V2uwps9s",
        "outputId": "0b3c7fd1-2414-4c0e-9c5e-2527f005bbef"
      },
      "execution_count": null,
      "outputs": [
        {
          "output_type": "stream",
          "name": "stdout",
          "text": [
            "Column: hour has 11 unique values\n",
            "\n",
            "11    738\n",
            "16    730\n",
            "18    727\n",
            "10    723\n",
            "12    721\n",
            "9     718\n",
            "19    709\n",
            "14    702\n",
            "17    699\n",
            "13    693\n",
            "15    669\n",
            "Name: hour, dtype: int64\n"
          ]
        }
      ]
    },
    {
      "cell_type": "markdown",
      "source": [
        "From this we can see that the 11th, 16th and 18th hour of the day are the top 3 hours of the day for transactions being processed. This is interesting, this would suggest that their busiest times of day may be just before lunch, and as people are on the way home from work. Once again, this is a small sample of data, so we can't make assumptions on the population sample of data, but it gives us insights to go back to the business with."
      ],
      "metadata": {
        "id": "aOxk-JGEpvlE"
      }
    },
    {
      "cell_type": "markdown",
      "source": [
        "# Correlations\n",
        "\n",
        "> By now, you should have a good understanding of all the columns within the dataset, as well as the values that occur within each column. One more thing that we can do is to look at how each of the numerical columns are related to each other.\n",
        "\n",
        "> To do this, we can use correlations. Correlations measure how each numeric column is linearly related to each other. It is measured between -1 and 1. If a correlation between 2 columns is close to -1, it shows that there is a negative correlation, that is, as 1 increases, the other decreases. If a correlation between 2 columns is close to 1, it shows that they are positively correlated, that is, as 1 increases, so does the other. Therefore, correlations do not infer that one column causes the other, but it gives us an indication as to how the columns are linearly related"
      ],
      "metadata": {
        "id": "QKZ8Tw3zp0ph"
      }
    },
    {
      "cell_type": "code",
      "source": [
        "corr = df.corr()\n",
        "corr.style.background_gradient(cmap='coolwarm')"
      ],
      "metadata": {
        "colab": {
          "base_uri": "https://localhost:8080/",
          "height": 261
        },
        "id": "56ToAZi1qUPp",
        "outputId": "0b6b908c-7dd2-4a10-90f6-b87e8a039d6f"
      },
      "execution_count": null,
      "outputs": [
        {
          "output_type": "stream",
          "name": "stderr",
          "text": [
            "<ipython-input-58-935c2e534e54>:1: FutureWarning: The default value of numeric_only in DataFrame.corr is deprecated. In a future version, it will default to False. Select only valid columns or specify the value of numeric_only to silence this warning.\n",
            "  corr = df.corr()\n"
          ]
        },
        {
          "output_type": "execute_result",
          "data": {
            "text/plain": [
              "<pandas.io.formats.style.Styler at 0x7d3efc455f00>"
            ],
            "text/html": [
              "<style type=\"text/css\">\n",
              "#T_96f08_row0_col0, #T_96f08_row1_col1, #T_96f08_row2_col2, #T_96f08_row3_col3, #T_96f08_row4_col4 {\n",
              "  background-color: #b40426;\n",
              "  color: #f1f1f1;\n",
              "}\n",
              "#T_96f08_row0_col1 {\n",
              "  background-color: #f4c6af;\n",
              "  color: #000000;\n",
              "}\n",
              "#T_96f08_row0_col2, #T_96f08_row2_col1 {\n",
              "  background-color: #3e51c5;\n",
              "  color: #f1f1f1;\n",
              "}\n",
              "#T_96f08_row0_col3 {\n",
              "  background-color: #d7dce3;\n",
              "  color: #000000;\n",
              "}\n",
              "#T_96f08_row0_col4 {\n",
              "  background-color: #3d50c3;\n",
              "  color: #f1f1f1;\n",
              "}\n",
              "#T_96f08_row1_col0 {\n",
              "  background-color: #f4c5ad;\n",
              "  color: #000000;\n",
              "}\n",
              "#T_96f08_row1_col2 {\n",
              "  background-color: #445acc;\n",
              "  color: #f1f1f1;\n",
              "}\n",
              "#T_96f08_row1_col3, #T_96f08_row3_col1 {\n",
              "  background-color: #ef886b;\n",
              "  color: #f1f1f1;\n",
              "}\n",
              "#T_96f08_row1_col4, #T_96f08_row3_col4 {\n",
              "  background-color: #3f53c6;\n",
              "  color: #f1f1f1;\n",
              "}\n",
              "#T_96f08_row2_col0, #T_96f08_row2_col4, #T_96f08_row4_col0, #T_96f08_row4_col1, #T_96f08_row4_col2, #T_96f08_row4_col3 {\n",
              "  background-color: #3b4cc0;\n",
              "  color: #f1f1f1;\n",
              "}\n",
              "#T_96f08_row2_col3 {\n",
              "  background-color: #e1dad6;\n",
              "  color: #000000;\n",
              "}\n",
              "#T_96f08_row3_col0 {\n",
              "  background-color: #d8dce2;\n",
              "  color: #000000;\n",
              "}\n",
              "#T_96f08_row3_col2 {\n",
              "  background-color: #e3d9d3;\n",
              "  color: #000000;\n",
              "}\n",
              "</style>\n",
              "<table id=\"T_96f08\" class=\"dataframe\">\n",
              "  <thead>\n",
              "    <tr>\n",
              "      <th class=\"blank level0\" >&nbsp;</th>\n",
              "      <th id=\"T_96f08_level0_col0\" class=\"col_heading level0 col0\" >Unnamed: 0</th>\n",
              "      <th id=\"T_96f08_level0_col1\" class=\"col_heading level0 col1\" >unit_price</th>\n",
              "      <th id=\"T_96f08_level0_col2\" class=\"col_heading level0 col2\" >quantity</th>\n",
              "      <th id=\"T_96f08_level0_col3\" class=\"col_heading level0 col3\" >total</th>\n",
              "      <th id=\"T_96f08_level0_col4\" class=\"col_heading level0 col4\" >hour</th>\n",
              "    </tr>\n",
              "  </thead>\n",
              "  <tbody>\n",
              "    <tr>\n",
              "      <th id=\"T_96f08_level0_row0\" class=\"row_heading level0 row0\" >Unnamed: 0</th>\n",
              "      <td id=\"T_96f08_row0_col0\" class=\"data row0 col0\" >1.000000</td>\n",
              "      <td id=\"T_96f08_row0_col1\" class=\"data row0 col1\" >0.623392</td>\n",
              "      <td id=\"T_96f08_row0_col2\" class=\"data row0 col2\" >0.003927</td>\n",
              "      <td id=\"T_96f08_row0_col3\" class=\"data row0 col3\" >0.483878</td>\n",
              "      <td id=\"T_96f08_row0_col4\" class=\"data row0 col4\" >0.001565</td>\n",
              "    </tr>\n",
              "    <tr>\n",
              "      <th id=\"T_96f08_level0_row1\" class=\"row_heading level0 row1\" >unit_price</th>\n",
              "      <td id=\"T_96f08_row1_col0\" class=\"data row1 col0\" >0.623392</td>\n",
              "      <td id=\"T_96f08_row1_col1\" class=\"data row1 col1\" >1.000000</td>\n",
              "      <td id=\"T_96f08_row1_col2\" class=\"data row1 col2\" >0.024588</td>\n",
              "      <td id=\"T_96f08_row1_col3\" class=\"data row1 col3\" >0.792018</td>\n",
              "      <td id=\"T_96f08_row1_col4\" class=\"data row1 col4\" >0.010842</td>\n",
              "    </tr>\n",
              "    <tr>\n",
              "      <th id=\"T_96f08_level0_row2\" class=\"row_heading level0 row2\" >quantity</th>\n",
              "      <td id=\"T_96f08_row2_col0\" class=\"data row2 col0\" >0.003927</td>\n",
              "      <td id=\"T_96f08_row2_col1\" class=\"data row2 col1\" >0.024588</td>\n",
              "      <td id=\"T_96f08_row2_col2\" class=\"data row2 col2\" >1.000000</td>\n",
              "      <td id=\"T_96f08_row2_col3\" class=\"data row2 col3\" >0.521926</td>\n",
              "      <td id=\"T_96f08_row2_col4\" class=\"data row2 col4\" >-0.008410</td>\n",
              "    </tr>\n",
              "    <tr>\n",
              "      <th id=\"T_96f08_level0_row3\" class=\"row_heading level0 row3\" >total</th>\n",
              "      <td id=\"T_96f08_row3_col0\" class=\"data row3 col0\" >0.483878</td>\n",
              "      <td id=\"T_96f08_row3_col1\" class=\"data row3 col1\" >0.792018</td>\n",
              "      <td id=\"T_96f08_row3_col2\" class=\"data row3 col2\" >0.521926</td>\n",
              "      <td id=\"T_96f08_row3_col3\" class=\"data row3 col3\" >1.000000</td>\n",
              "      <td id=\"T_96f08_row3_col4\" class=\"data row3 col4\" >0.010354</td>\n",
              "    </tr>\n",
              "    <tr>\n",
              "      <th id=\"T_96f08_level0_row4\" class=\"row_heading level0 row4\" >hour</th>\n",
              "      <td id=\"T_96f08_row4_col0\" class=\"data row4 col0\" >0.001565</td>\n",
              "      <td id=\"T_96f08_row4_col1\" class=\"data row4 col1\" >0.010842</td>\n",
              "      <td id=\"T_96f08_row4_col2\" class=\"data row4 col2\" >-0.008410</td>\n",
              "      <td id=\"T_96f08_row4_col3\" class=\"data row4 col3\" >0.010354</td>\n",
              "      <td id=\"T_96f08_row4_col4\" class=\"data row4 col4\" >1.000000</td>\n",
              "    </tr>\n",
              "  </tbody>\n",
              "</table>\n"
            ]
          },
          "metadata": {},
          "execution_count": 58
        }
      ]
    },
    {
      "cell_type": "markdown",
      "source": [
        "From this correlation matrix, we can see that the only columns that have a high correlation are unit_price and total. This is understandable because total is calculated used unit_price.\n",
        "\n",
        "All the other correlations are close to 0, indicating that there is not a significant positive or negative correlation between the numeric variables."
      ],
      "metadata": {
        "id": "vFMooNbgqdiF"
      }
    },
    {
      "cell_type": "markdown",
      "source": [
        "# Summary\n",
        "\n",
        "Having completed an initial exploratory data analysis on the sample of data provided. We should now have a solid understanding of the data.\n",
        "\n",
        "The client wants to know\n",
        "\n",
        "`\"How to better stock the items that they sell\"`\n",
        "\n",
        "From this dataset, it is impossible to answer that question. In order to make the next step on this project with the client, it is clear that:\n",
        "\n",
        "We need more rows of data. The current sample is only from 1 store and 1 week worth of data\n",
        "We need to frame the specific problem statement that we want to solve. The current business problem is too broad, we should narrow down the focus in order to deliver a valuable end product\n",
        "We need more features. Based on the problem statement that we move forward with, we need more columns (features) that may help us to understand the outcome that we're solving for"
      ],
      "metadata": {
        "id": "5wGGxGAaqff-"
      }
    }
  ]
}